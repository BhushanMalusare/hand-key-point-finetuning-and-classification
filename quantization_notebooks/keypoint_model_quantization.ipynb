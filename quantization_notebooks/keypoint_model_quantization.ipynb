{
  "cells": [
    {
      "cell_type": "code",
      "execution_count": 1,
      "metadata": {
        "id": "ZRBuiAFUOqk1"
      },
      "outputs": [],
      "source": [
        "import torch\n",
        "from ultralytics import YOLO"
      ]
    },
    {
      "cell_type": "code",
      "execution_count": 3,
      "metadata": {
        "id": "6drwJQinOtWu"
      },
      "outputs": [],
      "source": [
        "finetuned_key_detection_model = YOLO('B:\\hand_key_point_finetuned\\models\\last.pt')"
      ]
    },
    {
      "cell_type": "code",
      "execution_count": 12,
      "metadata": {
        "colab": {
          "base_uri": "https://localhost:8080/",
          "height": 1000
        },
        "id": "3b7Lp_JNOzH6",
        "outputId": "2734d4fb-4547-4517-c713-630089838480"
      },
      "outputs": [
        {
          "name": "stdout",
          "output_type": "stream",
          "text": [
            "Ultralytics YOLOv8.2.63  Python-3.10.3 torch-2.2.2+cu121 CPU (AMD Ryzen 7 7735HS with Radeon Graphics)\n",
            "YOLOv8n-pose summary (fused): 187 layers, 3,379,496 parameters, 0 gradients, 9.6 GFLOPs\n",
            "\n",
            "\u001b[34m\u001b[1mPyTorch:\u001b[0m starting from 'B:\\hand_key_point_finetuned\\models\\last.pt' with input shape (1, 3, 640, 640) BCHW and output shape(s) (1, 68, 8400) (13.2 MB)\n",
            "\u001b[31m\u001b[1mrequirements:\u001b[0m Ultralytics requirement ['openvino>=2024.0.0'] not found, attempting AutoUpdate...\n",
            "Collecting openvino>=2024.0.0\n",
            "  Downloading openvino-2024.3.0-16041-cp310-cp310-win_amd64.whl (34.0 MB)\n",
            "     ---------------------------------------- 34.0/34.0 MB 5.0 MB/s eta 0:00:00\n",
            "Requirement already satisfied: packaging in b:\\hand_key_point_finetuned\\venv\\lib\\site-packages (from openvino>=2024.0.0) (24.1)\n",
            "Collecting openvino-telemetry>=2023.2.1\n",
            "  Downloading openvino_telemetry-2024.1.0-py3-none-any.whl (23 kB)\n",
            "Requirement already satisfied: numpy<2.0.0,>=1.16.6 in b:\\hand_key_point_finetuned\\venv\\lib\\site-packages (from openvino>=2024.0.0) (1.23.5)\n",
            "Installing collected packages: openvino-telemetry, openvino\n",
            "Successfully installed openvino-2024.3.0 openvino-telemetry-2024.1.0\n",
            "\n",
            "\u001b[31m\u001b[1mrequirements:\u001b[0m AutoUpdate success  12.9s, installed 1 package: ['openvino>=2024.0.0']\n",
            "\u001b[31m\u001b[1mrequirements:\u001b[0m  \u001b[1mRestart runtime or rerun command for updates to take effect\u001b[0m\n",
            "\n",
            "\n",
            "\u001b[34m\u001b[1mOpenVINO:\u001b[0m starting export with openvino 2024.3.0-16041-1e3b88e4e3f-releases/2024/3...\n",
            "\u001b[34m\u001b[1mOpenVINO:\u001b[0m export success  22.7s, saved as 'B:\\hand_key_point_finetuned\\models\\last_openvino_model\\' (6.9 MB)\n",
            "\n",
            "Export complete (24.5s)\n",
            "Results saved to \u001b[1mB:\\hand_key_point_finetuned\\models\u001b[0m\n",
            "Predict:         yolo predict task=pose model=B:\\hand_key_point_finetuned\\models\\last_openvino_model imgsz=640 half \n",
            "Validate:        yolo val task=pose model=B:\\hand_key_point_finetuned\\models\\last_openvino_model imgsz=640 data=config.yaml half \n",
            "Visualize:       https://netron.app\n"
          ]
        },
        {
          "data": {
            "text/plain": [
              "'B:\\\\hand_key_point_finetuned\\\\models\\\\last_openvino_model'"
            ]
          },
          "execution_count": 12,
          "metadata": {},
          "output_type": "execute_result"
        }
      ],
      "source": [
        "finetuned_key_detection_model.export(format=\"openvino\",half=True)"
      ]
    },
    {
      "cell_type": "code",
      "execution_count": 20,
      "metadata": {
        "id": "Op7jTkPTQVG-"
      },
      "outputs": [],
      "source": [
        "model = YOLO(r'B:\\hand_key_point_finetuned\\models\\last_openvino_model',task='pose')"
      ]
    },
    {
      "cell_type": "code",
      "execution_count": null,
      "metadata": {},
      "outputs": [],
      "source": []
    },
    {
      "cell_type": "code",
      "execution_count": null,
      "metadata": {},
      "outputs": [],
      "source": []
    }
  ],
  "metadata": {
    "colab": {
      "provenance": []
    },
    "kernelspec": {
      "display_name": "Python 3",
      "name": "python3"
    },
    "language_info": {
      "codemirror_mode": {
        "name": "ipython",
        "version": 3
      },
      "file_extension": ".py",
      "mimetype": "text/x-python",
      "name": "python",
      "nbconvert_exporter": "python",
      "pygments_lexer": "ipython3",
      "version": "3.10.3"
    }
  },
  "nbformat": 4,
  "nbformat_minor": 0
}
