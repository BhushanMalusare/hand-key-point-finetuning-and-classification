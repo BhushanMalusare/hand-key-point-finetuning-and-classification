{
 "cells": [
  {
   "cell_type": "code",
   "execution_count": 1,
   "metadata": {},
   "outputs": [],
   "source": [
    "import tensorflow as tf"
   ]
  },
  {
   "cell_type": "code",
   "execution_count": 3,
   "metadata": {},
   "outputs": [
    {
     "name": "stderr",
     "output_type": "stream",
     "text": [
      "WARNING:absl:Compiled the loaded model, but the compiled metrics have yet to be built. `model.compile_metrics` will be empty until you train or evaluate the model.\n"
     ]
    }
   ],
   "source": [
    "classifier_model = tf.keras.models.load_model('B:\\hand_key_point_finetuned\\models\\classifier.h5')"
   ]
  },
  {
   "cell_type": "code",
   "execution_count": 5,
   "metadata": {},
   "outputs": [
    {
     "name": "stdout",
     "output_type": "stream",
     "text": [
      "INFO:tensorflow:Assets written to: C:\\Users\\BHUSHA~1\\AppData\\Local\\Temp\\tmpp_pv64lc\\assets\n"
     ]
    },
    {
     "name": "stderr",
     "output_type": "stream",
     "text": [
      "INFO:tensorflow:Assets written to: C:\\Users\\BHUSHA~1\\AppData\\Local\\Temp\\tmpp_pv64lc\\assets\n"
     ]
    },
    {
     "name": "stdout",
     "output_type": "stream",
     "text": [
      "Saved artifact at 'C:\\Users\\BHUSHA~1\\AppData\\Local\\Temp\\tmpp_pv64lc'. The following endpoints are available:\n",
      "\n",
      "* Endpoint 'serve'\n",
      "  args_0 (POSITIONAL_ONLY): TensorSpec(shape=(None, 256, 256, 3), dtype=tf.float32, name='input_layer')\n",
      "Output Type:\n",
      "  TensorSpec(shape=(None, 8), dtype=tf.float32, name=None)\n",
      "Captures:\n",
      "  1854070529312: TensorSpec(shape=(), dtype=tf.resource, name=None)\n",
      "  1854070534240: TensorSpec(shape=(), dtype=tf.resource, name=None)\n",
      "  1854070793568: TensorSpec(shape=(), dtype=tf.resource, name=None)\n",
      "  1854070792512: TensorSpec(shape=(), dtype=tf.resource, name=None)\n",
      "  1854068234848: TensorSpec(shape=(), dtype=tf.resource, name=None)\n",
      "  1854070919184: TensorSpec(shape=(), dtype=tf.resource, name=None)\n",
      "  1854070797792: TensorSpec(shape=(), dtype=tf.resource, name=None)\n",
      "  1854068232912: TensorSpec(shape=(), dtype=tf.resource, name=None)\n",
      "  1854061996416: TensorSpec(shape=(), dtype=tf.resource, name=None)\n",
      "  1854068240832: TensorSpec(shape=(), dtype=tf.resource, name=None)\n",
      "  1854070923760: TensorSpec(shape=(), dtype=tf.resource, name=None)\n",
      "  1854070923232: TensorSpec(shape=(), dtype=tf.resource, name=None)\n"
     ]
    }
   ],
   "source": [
    "# Convert the model.\n",
    "converter = tf.lite.TFLiteConverter.from_keras_model(classifier_model)\n",
    "tflite_model = converter.convert()\n",
    "\n",
    "# Save the model.\n",
    "with open('B:\\hand_key_point_finetuned\\quantized_models\\classifier_quantized.tflite', 'wb') as f:\n",
    "  f.write(tflite_model)"
   ]
  },
  {
   "cell_type": "code",
   "execution_count": null,
   "metadata": {},
   "outputs": [],
   "source": []
  }
 ],
 "metadata": {
  "kernelspec": {
   "display_name": "venv",
   "language": "python",
   "name": "python3"
  },
  "language_info": {
   "codemirror_mode": {
    "name": "ipython",
    "version": 3
   },
   "file_extension": ".py",
   "mimetype": "text/x-python",
   "name": "python",
   "nbconvert_exporter": "python",
   "pygments_lexer": "ipython3",
   "version": "3.10.3"
  }
 },
 "nbformat": 4,
 "nbformat_minor": 2
}
